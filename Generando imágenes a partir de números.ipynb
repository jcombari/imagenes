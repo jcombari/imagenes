{
 "cells": [
  {
   "cell_type": "code",
   "execution_count": 32,
   "metadata": {},
   "outputs": [],
   "source": [
    "from PIL import Image\n",
    "import numpy as np #herramientas de cálculo\n",
    "from PIL import ImageFont\n",
    "from PIL import ImageDraw \n",
    "import random #generar números aleatorios entre"
   ]
  },
  {
   "cell_type": "code",
   "execution_count": 166,
   "metadata": {},
   "outputs": [
    {
     "name": "stdout",
     "output_type": "stream",
     "text": [
      "1\n",
      "2930\n",
      "17070\n",
      "10\n",
      "5718\n",
      "14282\n",
      "100\n",
      "8577\n",
      "11423\n",
      "1000\n",
      "11436\n",
      "8564\n",
      "10000\n",
      "14295\n",
      "5705\n",
      "100000\n",
      "17154\n",
      "2846\n",
      "1000000\n",
      "20013\n",
      "-13\n"
     ]
    }
   ],
   "source": [
    "# Plot question mark:\n",
    "dim1=20000\n",
    "dim2=6000\n",
    "img = Image.new('RGB', size=(dim1+100,dim2+100), color=(random.randrange(100, 200)+1,random.randrange(0, 200)+1,random.randrange(0, 200)+1))\n",
    "draw = ImageDraw.Draw(img)\n",
    "font = ImageFont.truetype(\"OpenSans-ExtraBold.ttf\",5000)\n",
    "#for i in range(10):%\n",
    "#for i in np.arange(1000000,1000000+5):\n",
    "for i in [1,10,100,1000,10000,100000, 1000000]:\n",
    "    img = Image.new('RGB', size=(dim1+100,dim2+100), color=(random.randrange(100, 200)+1,random.randrange(100, 200)+1,random.randrange(100, 200)+1))\n",
    "    draw = ImageDraw.Draw(img)\n",
    "    w, h = draw.textsize(str(i), font=font)\n",
    "    font = ImageFont.truetype(\"OpenSans-Regular.ttf\", 5000)\n",
    "    print(i)\n",
    "    print(w)\n",
    "    print(dim1-w)\n",
    "    draw.text((0, (dim2-h)/3),str(i),font=font)\n",
    "    img.save('numbers/number_img_'+str(i)+'.jpg')"
   ]
  },
  {
   "cell_type": "code",
   "execution_count": 155,
   "metadata": {},
   "outputs": [
    {
     "name": "stdout",
     "output_type": "stream",
     "text": [
      "42\n",
      "11\n",
      "1000000\n",
      "19523.809523809523\n",
      "2857.1428571428573\n"
     ]
    },
    {
     "data": {
      "text/plain": [
       "2857142857.142857"
      ]
     },
     "execution_count": 155,
     "metadata": {},
     "output_type": "execute_result"
    }
   ],
   "source": [
    "i=1000000\n",
    "w, h = draw.textsize(str(i))\n",
    "print(w)\n",
    "print(h)\n",
    "print(i)\n",
    "print((dim1-(dim1/w)))\n",
    "print(dim1/7)\n",
    "i*dim1/7"
   ]
  },
  {
   "cell_type": "code",
   "execution_count": 105,
   "metadata": {},
   "outputs": [
    {
     "data": {
      "text/plain": [
       "(42, 1996.3333333333333)"
      ]
     },
     "execution_count": 105,
     "metadata": {},
     "output_type": "execute_result"
    }
   ],
   "source": [
    "(w, (dim2-h)/3)"
   ]
  },
  {
   "cell_type": "code",
   "execution_count": 106,
   "metadata": {},
   "outputs": [
    {
     "data": {
      "text/plain": [
       "476.1904761904762"
      ]
     },
     "execution_count": 106,
     "metadata": {},
     "output_type": "execute_result"
    }
   ],
   "source": [
    "dim1/w"
   ]
  },
  {
   "cell_type": "code",
   "execution_count": 107,
   "metadata": {},
   "outputs": [
    {
     "name": "stdout",
     "output_type": "stream",
     "text": [
      "6\n",
      "11\n",
      "1\n"
     ]
    }
   ],
   "source": [
    "i=1\n",
    "w, h = draw.textsize(str(i))\n",
    "print(w)\n",
    "print(h)\n",
    "print(i)"
   ]
  },
  {
   "cell_type": "code",
   "execution_count": 108,
   "metadata": {},
   "outputs": [
    {
     "data": {
      "text/plain": [
       "(6, 1996.3333333333333)"
      ]
     },
     "execution_count": 108,
     "metadata": {},
     "output_type": "execute_result"
    }
   ],
   "source": [
    "(w, (dim2-h)/3)"
   ]
  },
  {
   "cell_type": "code",
   "execution_count": 112,
   "metadata": {},
   "outputs": [
    {
     "data": {
      "text/plain": [
       "180000.0"
      ]
     },
     "execution_count": 112,
     "metadata": {},
     "output_type": "execute_result"
    }
   ],
   "source": [
    "dim1/2*w"
   ]
  },
  {
   "cell_type": "code",
   "execution_count": 44,
   "metadata": {},
   "outputs": [],
   "source": [
    "font = ImageFont.truetype('OpenSans-ExtraBold.ttf', font_size)"
   ]
  },
  {
   "cell_type": "code",
   "execution_count": 45,
   "metadata": {},
   "outputs": [],
   "source": [
    "w, h = draw.textsize(text, font)"
   ]
  },
  {
   "cell_type": "code",
   "execution_count": 46,
   "metadata": {},
   "outputs": [],
   "source": [
    "left = (img.width - w) / 2\n",
    "top = 22"
   ]
  }
 ],
 "metadata": {
  "kernelspec": {
   "display_name": "Python 3",
   "language": "python",
   "name": "python3"
  },
  "language_info": {
   "codemirror_mode": {
    "name": "ipython",
    "version": 3
   },
   "file_extension": ".py",
   "mimetype": "text/x-python",
   "name": "python",
   "nbconvert_exporter": "python",
   "pygments_lexer": "ipython3",
   "version": "3.7.4"
  }
 },
 "nbformat": 4,
 "nbformat_minor": 2
}
