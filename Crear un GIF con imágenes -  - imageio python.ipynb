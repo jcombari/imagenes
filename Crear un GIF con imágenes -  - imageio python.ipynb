{
 "cells": [
  {
   "cell_type": "code",
   "execution_count": null,
   "metadata": {},
   "outputs": [],
   "source": [
    "# Importra librerías\n",
    "import os\n",
    "import imageio"
   ]
  },
  {
   "cell_type": "code",
   "execution_count": null,
   "metadata": {},
   "outputs": [],
   "source": [
    "# Ubicación de la base de datos\n",
    "path = '/home/noemi/Escritorio/Proy_Ocv/imageio-python-crearGif/ImagenesGif/'\n",
    "archivos = sorted(os.listdir(path))\n",
    "img_array = []"
   ]
  },
  {
   "cell_type": "code",
   "execution_count": null,
   "metadata": {},
   "outputs": [],
   "source": [
    "#Leer todos los archivos formato imagen desde path\n",
    "for x in range(0, len(archivos)):\n",
    "    nomArchivo = archivos[x]\n",
    "    dirArchivo = path + str(nomArchivo)\n",
    "    \n",
    "    #Asignar a variable leer_imagen, el nombre de cada imagen\n",
    "    leer_imagen = imageio.imread(dirArchivo)\n",
    "    \n",
    "    # añadir imágenes al arreglo img_array\n",
    "    img_array.append(leer_imagen)\n",
    "    \n",
    "    #Guardar Gif\n",
    "    imageio.mimwrite('Gato.gif', img_array, 'GIF', duration=0.5)"
   ]
  }
 ],
 "metadata": {
  "kernelspec": {
   "display_name": "Python 3",
   "language": "python",
   "name": "python3"
  },
  "language_info": {
   "codemirror_mode": {
    "name": "ipython",
    "version": 3
   },
   "file_extension": ".py",
   "mimetype": "text/x-python",
   "name": "python",
   "nbconvert_exporter": "python",
   "pygments_lexer": "ipython3",
   "version": "3.7.4"
  }
 },
 "nbformat": 4,
 "nbformat_minor": 2
}
