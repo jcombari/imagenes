{
 "cells": [
  {
   "cell_type": "code",
   "execution_count": 1,
   "metadata": {},
   "outputs": [],
   "source": [
    "from PIL import Image\n",
    "import numpy as np #herramientas de cálculo\n",
    "from PIL import ImageFont\n",
    "from PIL import ImageDraw \n",
    "import random #generar números aleatorios entre"
   ]
  },
  {
   "cell_type": "code",
   "execution_count": null,
   "metadata": {},
   "outputs": [],
   "source": [
    "# Plot question mark:\n",
    "dim1=20000\n",
    "dim2=6000\n",
    "img = Image.new('RGB', size=(dim1+100,dim2+100), color=(random.randrange(100, 256)+1,random.randrange(0, 256)+1,random.randrange(0, 25)+1))\n",
    "draw = ImageDraw.Draw(img)\n",
    "font = ImageFont.truetype(\"OpenSans-ExtraBold.ttf\",5000)\n",
    "#for i in range(10):\n",
    "for i in np.arange(0,9):\n",
    "    img = Image.new('RGB', size=(dim1+100,dim2+100), color=(random.randrange(100, 256)+1,random.randrange(100, 256)+1,random.randrange(100, 256)+1))\n",
    "    draw = ImageDraw.Draw(img)\n",
    "    w, h = draw.textsize(str(i))\n",
    "    font = ImageFont.truetype(\"OpenSans-Regular.ttf\", 5000)\n",
    "    #draw.text(((dim1-w)/3, (dim2-h)/3),str(i),font=font, align='left')\n",
    "    img.save('numbers/number_img_'+str(i)+'.jpg')"
   ]
  },
  {
   "cell_type": "code",
   "execution_count": 25,
   "metadata": {},
   "outputs": [
    {
     "data": {
      "text/plain": [
       "(6, 11)"
      ]
     },
     "execution_count": 25,
     "metadata": {},
     "output_type": "execute_result"
    }
   ],
   "source": [
    "draw.textsize(str(i))"
   ]
  }
 ],
 "metadata": {
  "kernelspec": {
   "display_name": "Python 3",
   "language": "python",
   "name": "python3"
  },
  "language_info": {
   "codemirror_mode": {
    "name": "ipython",
    "version": 3
   },
   "file_extension": ".py",
   "mimetype": "text/x-python",
   "name": "python",
   "nbconvert_exporter": "python",
   "pygments_lexer": "ipython3",
   "version": "3.7.4"
  }
 },
 "nbformat": 4,
 "nbformat_minor": 2
}
