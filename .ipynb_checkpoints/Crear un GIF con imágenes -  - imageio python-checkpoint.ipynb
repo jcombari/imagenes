{
 "cells": [
  {
   "cell_type": "code",
   "execution_count": 1,
   "metadata": {},
   "outputs": [],
   "source": [
    "# Importra librerías\n",
    "import os\n",
    "import imageio"
   ]
  },
  {
   "cell_type": "code",
   "execution_count": 2,
   "metadata": {},
   "outputs": [
    {
     "data": {
      "text/plain": [
       "['Diapositiva140.JPG',\n",
       " 'Diapositiva141.JPG',\n",
       " 'Diapositiva142.JPG',\n",
       " 'Diapositiva143.JPG',\n",
       " 'Diapositiva144.JPG',\n",
       " 'Diapositiva145.JPG',\n",
       " 'Diapositiva146.JPG',\n",
       " 'Diapositiva147.JPG',\n",
       " 'Diapositiva148.JPG',\n",
       " 'Diapositiva149.JPG',\n",
       " 'Diapositiva150.JPG',\n",
       " 'Diapositiva151.JPG',\n",
       " 'Diapositiva152.JPG']"
      ]
     },
     "execution_count": 2,
     "metadata": {},
     "output_type": "execute_result"
    }
   ],
   "source": [
    "# Ubicación de la base de datos\n",
    "path = 'img/'\n",
    "archivos = sorted(os.listdir(path))\n",
    "img_array = []\n",
    "archivos"
   ]
  },
  {
   "cell_type": "code",
   "execution_count": 3,
   "metadata": {},
   "outputs": [],
   "source": [
    "#Leer todos los archivos formato imagen desde path\n",
    "for x in range(0, len(archivos)):\n",
    "    nomArchivo = archivos[x]\n",
    "    dirArchivo = path + str(nomArchivo)\n",
    "    \n",
    "    #Asignar a variable leer_imagen, el nombre de cada imagen\n",
    "    leer_imagen = imageio.imread(dirArchivo)\n",
    "    \n",
    "    # añadir imágenes al arreglo img_array\n",
    "    img_array.append(leer_imagen)\n",
    "    \n",
    "    #Guardar Gif\n",
    "    imageio.mimwrite('Gato.gif', img_array, 'GIF', duration=0.5)"
   ]
  },
  {
   "cell_type": "code",
   "execution_count": 4,
   "metadata": {},
   "outputs": [],
   "source": [
    "import numpy as np\n",
    "pixels=np.arange(1,1000000+1)    \n",
    "# Convert the pixels into an array using numpy\n",
    "array = np.array(pixels, dtype=np.uint8)"
   ]
  },
  {
   "cell_type": "code",
   "execution_count": 5,
   "metadata": {},
   "outputs": [],
   "source": [
    "# Use PIL to create an image from the new array of pixels\n",
    "\n",
    "from PIL import Image\n",
    "from PIL import ImageFont\n",
    "from PIL import ImageDraw"
   ]
  },
  {
   "cell_type": "code",
   "execution_count": 6,
   "metadata": {},
   "outputs": [],
   "source": [
    "# Plot question mark:\n",
    "\n",
    "img = Image.new('RGB', (500,500), (250,250,250))"
   ]
  },
  {
   "cell_type": "code",
   "execution_count": null,
   "metadata": {},
   "outputs": [],
   "source": [
    "draw = ImageDraw.Draw(img)"
   ]
  },
  {
   "cell_type": "code",
   "execution_count": null,
   "metadata": {},
   "outputs": [],
   "source": [
    "font = ImageFont.truetype(\"OpenSans-Regular.ttf\", 400)"
   ]
  },
  {
   "cell_type": "code",
   "execution_count": null,
   "metadata": {},
   "outputs": [],
   "source": [
    "draw.text((180, -30),\"?\",(0,0,0),font=font)\n",
    "img.save('question_mark_img.jpg')"
   ]
  },
  {
   "cell_type": "code",
   "execution_count": null,
   "metadata": {},
   "outputs": [],
   "source": [
    "# plot digit numbers (from 0 to 9):\n",
    "\n",
    "for i in range(10):\n",
    "    img = Image.new('RGB', (500,500), (250,250,250))\n",
    "    draw = ImageDraw.Draw(img)\n",
    "    font = ImageFont.truetype(\"OpenSans-Regular.ttf\", 400)\n",
    "    draw.text((150, -30),str(i),(0,0,0),font=font)\n",
    "    img.save('digit_number_img_'+str(i)+'.jpg')"
   ]
  }
 ],
 "metadata": {
  "kernelspec": {
   "display_name": "Python 3",
   "language": "python",
   "name": "python3"
  },
  "language_info": {
   "codemirror_mode": {
    "name": "ipython",
    "version": 3
   },
   "file_extension": ".py",
   "mimetype": "text/x-python",
   "name": "python",
   "nbconvert_exporter": "python",
   "pygments_lexer": "ipython3",
   "version": "3.7.4"
  }
 },
 "nbformat": 4,
 "nbformat_minor": 2
}
