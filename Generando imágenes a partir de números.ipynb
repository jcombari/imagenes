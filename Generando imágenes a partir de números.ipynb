{
 "cells": [
  {
   "cell_type": "code",
   "execution_count": 1,
   "metadata": {},
   "outputs": [],
   "source": [
    "from PIL import Image\n",
    "import numpy as np #herramientas de cálculo\n",
    "from PIL import ImageFont\n",
    "from PIL import ImageDraw \n",
    "import random #generar números aleatorios entre"
   ]
  },
  {
   "cell_type": "code",
   "execution_count": null,
   "metadata": {},
   "outputs": [],
   "source": [
    "# Plot question mark:\n",
    "dim1=20000\n",
    "dim2=6000\n",
    "img = Image.new('RGB', size=(dim1+100,dim2+100), color=(random.randrange(100, 200)+1,random.randrange(0, 200)+1,random.randrange(0, 200)+1))\n",
    "draw = ImageDraw.Draw(img)\n",
    "font = ImageFont.truetype(\"OpenSans-ExtraBold.ttf\",5000)\n",
    "#for i in range(10):%\n",
    "for i in np.arange(0-1,1000000+1):\n",
    "#for i in [1,10,100,1000,10000,100000, 1000000]:\n",
    "    img = Image.new('RGB', size=(dim1+100,dim2+100), color=(random.randrange(100, 200)+1,random.randrange(100, 200)+1,random.randrange(100, 200)+1))\n",
    "    draw = ImageDraw.Draw(img)\n",
    "    w, h = draw.textsize(str(i), font=font)\n",
    "    font = ImageFont.truetype(\"OpenSans-Regular.ttf\", 5000)\n",
    "    #print(i)\n",
    "    #print(w)\n",
    "    #print(dim1-w)\n",
    "    draw.text((np.abs((dim1-w)), (dim2-h)/3),str(i),font=font)\n",
    "    img.save('numbers/number_img_'+str(i)+'.jpg')"
   ]
  }
 ],
 "metadata": {
  "kernelspec": {
   "display_name": "Python 3",
   "language": "python",
   "name": "python3"
  },
  "language_info": {
   "codemirror_mode": {
    "name": "ipython",
    "version": 3
   },
   "file_extension": ".py",
   "mimetype": "text/x-python",
   "name": "python",
   "nbconvert_exporter": "python",
   "pygments_lexer": "ipython3",
   "version": "3.7.4"
  }
 },
 "nbformat": 4,
 "nbformat_minor": 2
}
